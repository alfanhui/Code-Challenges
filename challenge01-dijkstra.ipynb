{
 "cells": [
  {
   "cell_type": "markdown",
   "metadata": {},
   "source": [
    "Dundee University Computing Society 2016 - Created by Stuart Huddy\n",
    "Note: Some examples have been from Universität of Osnabrück"
   ]
  },
  {
   "cell_type": "markdown",
   "metadata": {},
   "source": [
    "## Setup your environment\n",
    "\n",
    "### a) Install Python\n",
    "\n",
    "To be able to run Jupyter Notebooks you will need Python. Follow this exercise to get everything up and running.\n",
    "\n",
    "#### UNIX (e.g. Ubuntu)\n",
    "\n",
    "The following commands will install Python and the components required to build some of the packages we will use.\n",
    "\n",
    "```sh\n",
    "sudo apt-get install build-essential python3-dev python3\n",
    "pip3 install --upgrade pip\n",
    "pip3 install jupyter numpy matplotlib\n",
    "```\n",
    "\n",
    "#### MacOS\n",
    "\n",
    "We recommend using homebrew to install Python.\n",
    "\n",
    "```sh\n",
    "ruby -e \"$(curl -fsSL https://raw.githubusercontent.com/Homebrew/install/master/install)\"\n",
    "brew install python3\n",
    "pip3 install --upgrade pip\n",
    "pip3 install jupyter numpy matplotlib\n",
    "```\n",
    "\n",
    "#### Windows\n",
    "\n",
    "Go to [https://www.python.org/downloads/windows/](https://www.python.org/downloads/windows/) and download the _Latest Python 3 Release_. Install it and make sure that _Add to PATH_ is checked during the installation.\n",
    "\n",
    "Open your command line (`START` → `cmd.exe`). Type the following commands:\n",
    "\n",
    "```sh\n",
    "pip install --upgrade pip\n",
    "pip install jupyter numpy matplotlib\n",
    "```\n",
    "\n",
    "If some of those installations fail, check if `pip` produces output. Otherwise `'pip' is not recognized as an internal or external command, operable program or batch file.`. If that is the case, rerun the installation and check \"Add to PATH\" or try restarting your computer. In the other cases it might be you have problems with compiling the packages. Try to find them on [http://www.lfd.uci.edu/~gohlke/pythonlibs/](http://www.lfd.uci.edu/~gohlke/pythonlibs/), download them and install them with: \n",
    "\n",
    "```sh\n",
    "pip install *.whl\n",
    "```\n"
   ]
  },
  {
   "cell_type": "markdown",
   "metadata": {},
   "source": [
    "# Programming Challenge 01:Dijkstra's algorithm\n",
    "\n",
    "Find the shortest paths from a given source node to all other nodes by developing the paths in order of increasing paths lengths. By the kth stage of the agorithm, there is a known set M consisting of k nodes which are the k nodes closest to (i.e. least cost away from) the source node. The (k+1)st stage of the algorithm will add to M the node which was not previously in M, and has the shortest (least cost) path from the source node. It will also establish the path to that node from the source."
   ]
  },
  {
   "cell_type": "markdown",
   "metadata": {},
   "source": [
    "Peusdo Code for Algorithm:\n",
    "1. Initalise as follows:\n",
    "The set M contains only s, the source node. The path costs from s to neighbouring nodes are known. (In fact, the costs of all individual links within the network are known - this information is essential for the algorithm to function.)\n",
    "    \n",
    "2. Find the neighbouring node w not in set M that has the least-cost path from the source node and add node w to set M.\n",
    "\n",
    "3. Update the known least-cost paths for all the nodes not in set M by comparing the current known cost of the path from the source node to a node n with (the cost of the path from the source to the node w (just added to set M) + The cost fo the path from node w to node n). Do this for all nodes n outside the set M."
   ]
  },
  {
   "cell_type": "code",
   "execution_count": 24,
   "metadata": {
    "collapsed": false
   },
   "outputs": [
    {
     "ename": "AssertionError",
     "evalue": "",
     "output_type": "error",
     "traceback": [
      "\u001b[0;31m---------------------------------------------------------------------------\u001b[0m",
      "\u001b[0;31mAssertionError\u001b[0m                            Traceback (most recent call last)",
      "\u001b[0;32m<ipython-input-24-4055aead52c0>\u001b[0m in \u001b[0;36m<module>\u001b[0;34m()\u001b[0m\n\u001b[1;32m     20\u001b[0m \u001b[0;31m#Below are asserts which tests if the outcome\u001b[0m\u001b[0;34m\u001b[0m\u001b[0;34m\u001b[0m\u001b[0m\n\u001b[1;32m     21\u001b[0m \u001b[0;31m#of the dijkstra's algorithm works. DO NOT DELETE\u001b[0m\u001b[0;34m\u001b[0m\u001b[0;34m\u001b[0m\u001b[0m\n\u001b[0;32m---> 22\u001b[0;31m \u001b[0;32massert\u001b[0m \u001b[0mdijkstra\u001b[0m\u001b[0;34m(\u001b[0m\u001b[0mD\u001b[0m\u001b[0;34m,\u001b[0m \u001b[0;36m0\u001b[0m\u001b[0;34m)\u001b[0m \u001b[0;34m==\u001b[0m \u001b[0;34m[\u001b[0m\u001b[0;36m0\u001b[0m\u001b[0;34m,\u001b[0m \u001b[0;36m2\u001b[0m\u001b[0;34m,\u001b[0m \u001b[0;36m3\u001b[0m\u001b[0;34m,\u001b[0m \u001b[0;36m1\u001b[0m\u001b[0;34m,\u001b[0m \u001b[0;36m2\u001b[0m\u001b[0;34m,\u001b[0m \u001b[0;36m4\u001b[0m\u001b[0;34m]\u001b[0m\u001b[0;34m\u001b[0m\u001b[0m\n\u001b[0m\u001b[1;32m     23\u001b[0m \u001b[0;32massert\u001b[0m \u001b[0mdijkstra\u001b[0m\u001b[0;34m(\u001b[0m\u001b[0mD\u001b[0m\u001b[0;34m,\u001b[0m \u001b[0;36m1\u001b[0m\u001b[0;34m)\u001b[0m \u001b[0;34m==\u001b[0m \u001b[0;34m[\u001b[0m\u001b[0;36m3\u001b[0m\u001b[0;34m,\u001b[0m \u001b[0;36m0\u001b[0m\u001b[0;34m,\u001b[0m \u001b[0;36m3\u001b[0m\u001b[0;34m,\u001b[0m \u001b[0;36m2\u001b[0m\u001b[0;34m,\u001b[0m \u001b[0;36m3\u001b[0m\u001b[0;34m,\u001b[0m \u001b[0;36m5\u001b[0m\u001b[0;34m]\u001b[0m\u001b[0;34m\u001b[0m\u001b[0m\n\u001b[1;32m     24\u001b[0m \u001b[0;32massert\u001b[0m \u001b[0mdijkstra\u001b[0m\u001b[0;34m(\u001b[0m\u001b[0mD\u001b[0m\u001b[0;34m,\u001b[0m \u001b[0;36m2\u001b[0m\u001b[0;34m)\u001b[0m \u001b[0;34m==\u001b[0m \u001b[0;34m[\u001b[0m\u001b[0;36m7\u001b[0m\u001b[0;34m,\u001b[0m \u001b[0;36m4\u001b[0m\u001b[0;34m,\u001b[0m \u001b[0;36m0\u001b[0m\u001b[0;34m,\u001b[0m \u001b[0;36m2\u001b[0m\u001b[0;34m,\u001b[0m \u001b[0;36m1\u001b[0m\u001b[0;34m,\u001b[0m \u001b[0;36m3\u001b[0m\u001b[0;34m]\u001b[0m\u001b[0;34m\u001b[0m\u001b[0m\n",
      "\u001b[0;31mAssertionError\u001b[0m: "
     ]
    }
   ],
   "source": [
    "#Dataset of lengths. If paths between points are 0, it either means\n",
    "#it is itself or a node it does not have direct access to.\n",
    "D= (([0,0],[2,3],[5,8],[1,7],[0,0],[0,0]),#n0\n",
    "        ([3,2],[0,0],[3,6],[2,2],[0,0],[0,0]),#n1\n",
    "        ([8,5],[6,3],[0,0],[3,3],[1,1],[5,8]),#n2\n",
    "        ([7,1],[2,2],[3,3],[0,0],[1,1],[0,0]),#n3\n",
    "        ([0,0],[0,0],[1,1],[1,1],[0,0],[2,4]),#n4\n",
    "        ([0,0],[0,0],[8,5],[0,0],[4,2],[0,0]))#n5\n",
    "\n",
    "#i is the node we wish to work out it's sink tree.\n",
    "#Remember path to itself will always be zero.\n",
    "#Return array of integers with least cost to get to that node from i\n",
    "def dijkstra(D, i):\n",
    "    n=[0,1,2,3,4,5] #nodes in network\n",
    "    #algorithm goes here\n",
    "    \n",
    "\n",
    "    \n",
    "    \n",
    "    \n",
    "#Below are asserts which tests if the outcome \n",
    "#of the dijkstra's algorithm works. DO NOT DELETE\n",
    "assert dijkstra(D, 0) == [0, 2, 3, 1, 2, 4]\n",
    "assert dijkstra(D, 1) == [3, 0, 3, 2, 3, 5]\n",
    "assert dijkstra(D, 2) == [7, 4, 0, 2, 1, 3]\n",
    "assert dijkstra(D, 3) == [5, 2, 2, 0, 1, 3]\n",
    "assert dijkstra(D, 4) == [6, 3, 1, 1, 0, 2]\n",
    "assert dijkstra(D, 5) == [10, 7, 5, 5, 4, 0]\n"
   ]
  },
  {
   "cell_type": "code",
   "execution_count": null,
   "metadata": {
    "collapsed": true
   },
   "outputs": [],
   "source": []
  },
  {
   "cell_type": "code",
   "execution_count": null,
   "metadata": {
    "collapsed": true
   },
   "outputs": [],
   "source": []
  }
 ],
 "metadata": {
  "celltoolbar": "Raw Cell Format",
  "kernelspec": {
   "display_name": "Python 3",
   "language": "python",
   "name": "python3"
  },
  "language_info": {
   "codemirror_mode": {
    "name": "ipython",
    "version": 3
   },
   "file_extension": ".py",
   "mimetype": "text/x-python",
   "name": "python",
   "nbconvert_exporter": "python",
   "pygments_lexer": "ipython3",
   "version": "3.5.2"
  }
 },
 "nbformat": 4,
 "nbformat_minor": 0
}
